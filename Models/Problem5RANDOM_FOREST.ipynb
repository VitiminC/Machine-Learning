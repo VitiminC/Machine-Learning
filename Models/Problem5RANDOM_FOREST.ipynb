{
 "cells": [
  {
   "cell_type": "code",
   "execution_count": 2,
   "metadata": {},
   "outputs": [
    {
     "name": "stdout",
     "output_type": "stream",
     "text": [
      "Accuracy of Final Model = 0.8450908144021916\n",
      "Training Error = 0.15490918559780842\n",
      "Test Error = 0.15103494871322398\n"
     ]
    }
   ],
   "source": [
    "from sklearn.ensemble import RandomForestClassifier as rfc\n",
    "from sklearn.datasets import load_svmlight_file\n",
    "from sklearn.metrics import accuracy_score\n",
    "from sklearn.model_selection import train_test_split, KFold, cross_val_score\n",
    "import numpy as np\n",
    "import csv\n",
    "\n",
    "x_test, y_test = load_svmlight_file(\"a9a.t\")\n",
    "x_train, y_train = load_svmlight_file(\"a9a.txt\")\n",
    "\n",
    "table_header = [\"n_est\",\"bootstrap\",\"max_depth\",\"min_impurity_decrease\",\"min_samples_leaf\"]\n",
    "table_rows = []\n",
    "\n",
    "'''\n",
    "#Checking default parameters\n",
    "default = rfc()\n",
    "default.fit(x_train, y_train)\n",
    "\n",
    "#predict on test with default\n",
    "prediction = default.predict(x_test)\n",
    "acc = accuracy_score(y_test, prediction)\n",
    "print(acc)\n",
    "print(default.get_params())\n",
    "'''\n",
    "\n",
    "'''\n",
    "#hyperparameter tuning - ***WARNING*** This will take a very long time ***WARNING***\n",
    "hyperparameters = []\n",
    "n_est = [150,200,250]\n",
    "bootstrap = [True,False]\n",
    "max_depth = [None,10,100,200]\n",
    "min_impurity_decrease = [0.0,0.1,0.5]\n",
    "min_samples_leaf = [2,3,10]\n",
    "\n",
    "best_acc = 0\n",
    "for a in n_est:\n",
    "    for b in bootstrap:\n",
    "        for c in max_depth:\n",
    "            for d in min_impurity_decrease:\n",
    "                for e in min_samples_leaf:\n",
    "                    new_model = rfc(n_estimators=a,\n",
    "                                         bootstrap=b,\n",
    "                                         max_depth=c,\n",
    "                                         min_impurity_decrease=d,\n",
    "                                         min_samples_leaf=e)\n",
    "                        \n",
    "                    cross_val = cross_val_score(new_model,x_train,y_train,cv=KFold())\n",
    "                    acc = cross_val.mean()\n",
    "                    table_rows.append([a,b,c,d,e,acc])\n",
    "                    if (best_acc < acc):\n",
    "                        best_acc = acc\n",
    "                        best_model = [a,b,c,d,e]\n",
    "print(best_acc)\n",
    "print(best_model)\n",
    "#Create csv with all parameters and accuracies\n",
    "with open('Hyperparameters_RF.csv', 'w') as f:\n",
    "    write = csv.writer(f,lineterminator = '\\n')   \n",
    "    write.writerow(table_header)\n",
    "    write.writerows(table_rows)\n",
    "'''\n",
    "\n",
    "#'''\n",
    "#Best result was [200,True,100,0.0,3]\n",
    "final_model = rfc(n_estimators=200,\n",
    "                bootstrap=True,\n",
    "                max_depth=100,\n",
    "                min_impurity_decrease=0.0,\n",
    "                min_samples_leaf=3)\n",
    "\n",
    "final_model.fit(x_train, y_train)\n",
    "cross_val = cross_val_score(final_model,x_train,y_train,cv=KFold())\n",
    "acc = cross_val.mean()\n",
    "print(\"Accuracy of Final Model = %s\" %acc)\n",
    "print(\"Training Error = %s\" %(1-cross_val.mean()))\n",
    "print(\"Test Error = %s\" %(1-final_model.score(x_test,y_test)))\n",
    "#'''"
   ]
  },
  {
   "cell_type": "code",
   "execution_count": null,
   "metadata": {},
   "outputs": [],
   "source": []
  }
 ],
 "metadata": {
  "kernelspec": {
   "display_name": "Python 3 (ipykernel)",
   "language": "python",
   "name": "python3"
  },
  "language_info": {
   "codemirror_mode": {
    "name": "ipython",
    "version": 3
   },
   "file_extension": ".py",
   "mimetype": "text/x-python",
   "name": "python",
   "nbconvert_exporter": "python",
   "pygments_lexer": "ipython3",
   "version": "3.9.7"
  }
 },
 "nbformat": 4,
 "nbformat_minor": 2
}
