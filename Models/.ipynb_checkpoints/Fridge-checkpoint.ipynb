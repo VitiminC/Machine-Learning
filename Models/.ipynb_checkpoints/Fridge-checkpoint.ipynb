{
 "cells": [
  {
   "cell_type": "code",
   "execution_count": 265,
   "id": "d8e80fbb",
   "metadata": {},
   "outputs": [],
   "source": [
    "import numpy as np"
   ]
  },
  {
   "cell_type": "code",
   "execution_count": 266,
   "id": "0be3ebce",
   "metadata": {},
   "outputs": [],
   "source": [
    "class Database(object):\n",
    "    \n",
    "    def __init__(self,num_fridges):\n",
    "        self.num_fridges = num_fridges\n",
    "        self.shelf_range = 4\n",
    "        self.mini_shelf_range = 5\n",
    "        self.layer_range = 4\n",
    "        self.box_range = 4\n",
    "        self.row_range = 9\n",
    "        self.col_range = 9\n",
    "        \n",
    "        fridge = [[[[[],[],[],[]],[[],[],[],[]],[[],[],[],[]],[[],[],[],[]],[[],[],[],[]]],[[[],[],[],[]],[[],[],[],[]],[[],[],[],[]],[[],[],[],[]],[[],[],[],[]]],[[[],[],[],[]],[[],[],[],[]],[[],[],[],[]],[[],[],[],[]],[[],[],[],[]]],[[[],[],[],[]],[[],[],[],[]],[[],[],[],[]],[[],[],[],[]],[[],[],[],[]]]],\n",
    "          [[[[],[],[],[]],[[],[],[],[]],[[],[],[],[]],[[],[],[],[]],[[],[],[],[]]],[[[],[],[],[]],[[],[],[],[]],[[],[],[],[]],[[],[],[],[]],[[],[],[],[]]],[[[],[],[],[]],[[],[],[],[]],[[],[],[],[]],[[],[],[],[]],[[],[],[],[]]],[[[],[],[],[]],[[],[],[],[]],[[],[],[],[]],[[],[],[],[]],[[],[],[],[]]]],\n",
    "          [[[[],[],[],[]],[[],[],[],[]],[[],[],[],[]],[[],[],[],[]],[[],[],[],[]]],[[[],[],[],[]],[[],[],[],[]],[[],[],[],[]],[[],[],[],[]],[[],[],[],[]]],[[[],[],[],[]],[[],[],[],[]],[[],[],[],[]],[[],[],[],[]],[[],[],[],[]]],[[[],[],[],[]],[[],[],[],[]],[[],[],[],[]],[[],[],[],[]],[[],[],[],[]]]],\n",
    "          [[[[],[],[],[]],[[],[],[],[]],[[],[],[],[]],[[],[],[],[]],[[],[],[],[]]],[[[],[],[],[]],[[],[],[],[]],[[],[],[],[]],[[],[],[],[]],[[],[],[],[]]],[[[],[],[],[]],[[],[],[],[]],[[],[],[],[]],[[],[],[],[]],[[],[],[],[]]],[[[],[],[],[]],[[],[],[],[]],[[],[],[],[]],[[],[],[],[]],[[],[],[],[]]]]]\n",
    "        for shelf in fridge:\n",
    "            for mini_shelf in shelf:\n",
    "                for layer in mini_shelf:\n",
    "                    for box in layer:\n",
    "                        box.append(np.zeros([9,9], dtype = object))\n",
    "        self.fridges = []\n",
    "        for i in range(num_fridges):\n",
    "            self.fridges.append(fridge)\n",
    "        \n",
    "        \n",
    "    def get_fridge(self,fridge_num):\n",
    "        return self.fridges[fridge_num-1]\n",
    "    \n",
    "    def get_shelf(self,fridge_num,shelf_num):\n",
    "        return self.fridges[fridge_num-1][shelf_num-1]\n",
    "    \n",
    "    def get_mini_shelf(self,fridge_num,shelf_num,mini_shelf_num):\n",
    "        return self.fridges[fridge_num-1][shelf_num-1][mini_shelf_num-1]\n",
    "\n",
    "    def get_layer(self,fridge_num,shelf_num,mini_shelf_num,layer_num):\n",
    "        return self.fridges[fridge_num-1][shelf_num-1][mini_shelf_num-1][layer_num-1]\n",
    "    \n",
    "    def get_box(self,fridge_num,shelf_num,mini_shelf_num,layer_num,box_num):\n",
    "        return self.fridges[fridge_num-1][shelf_num-1][mini_shelf_num-1][layer_num-1][box_num-1][0]\n",
    "    \n",
    "    def get_sample(self,fridge_num,shelf_num,mini_shelf_num,layer_num,box_num,x,y):\n",
    "        return self.fridges[fridge_num-1][shelf_num-1][mini_shelf_num-1][layer_num-1][box_num-1][0][x][y]\n",
    "    \n",
    "    def insert(self,fridge_num,shelf_num,mini_shelf_num,layer_num,box_num,x,y,value):\n",
    "        \n",
    "        if shelf_num > self.shelf_range or shelf_num < 1:\n",
    "            return \"error: invalid shelf number\"\n",
    "        if mini_shelf_num > self.mini_shelf_range or mini_shelf_num < 0:\n",
    "            return \"error: invalid mini shelf number\"\n",
    "        if layer_num > self.layer_range or layer_num < 1:\n",
    "            return \"error: invalid layer number\"\n",
    "        if box_num > self.box_range or box_num < 1:\n",
    "            return \"error: invalid box number\"\n",
    "        if x > self.row_range or x < 0:\n",
    "            return \"error: invalid row number\"\n",
    "        if y > self.col_range or y < 0:\n",
    "            return \"error: invalid column number\"\n",
    "        if self.fridges[fridge_num-1][shelf_num-1][mini_shelf_num-1][layer_num-1][box_num-1][0][x][y] == 0:\n",
    "            self.fridges[fridge_num-1][shelf_num-1][mini_shelf_num-1][layer_num-1][box_num-1][0][x][y] = value\n",
    "            print(\"successfully inserted\")\n",
    "        else:\n",
    "            print(\"Error, slot is occupied\")\n",
    "    \n",
    "    def delete(self,fridge_num,shelf_num,mini_shelf_num,layer_num,box_num,x,y):\n",
    "        if self.fridges[fridge_num-1][shelf_num-1][mini_shelf_num-1][layer_num-1][box_num-1][0][x][y] != 0:\n",
    "            self.fridges[fridge_num-1][shelf_num-1][mini_shelf_num-1][layer_num-1][box_num-1][0][x][y] = 0\n",
    "            print(\"sample successfully deleted\")\n",
    "        else:\n",
    "            print(\"Slot is already empty\")\n",
    "            \n",
    "    def find_sample(self,id):\n",
    "        fridge_num = 0\n",
    "        for fridge in self.fridges:\n",
    "            fridge_num+=1\n",
    "            shelf_num = 0\n",
    "            for shelf in fridge:\n",
    "                shelf_num+=1\n",
    "                mini_shelf_num = 0\n",
    "                for mini_shelf in shelf:\n",
    "                    mini_shelf_num+=1\n",
    "                    layer_num = 0\n",
    "                    for layer in mini_shelf:\n",
    "                        layer_num+=1\n",
    "                        box_num = 0\n",
    "                        for box in layer:\n",
    "                            box_num+=1\n",
    "                            row_num = -1\n",
    "                            for array in box:\n",
    "                                for row in array:\n",
    "                                    row_num+=1\n",
    "                                    col_num = -1\n",
    "                                    for sample in row:\n",
    "                                        col_num+=1\n",
    "                                        if sample == id:\n",
    "                                            location = \"Fridge#:{}, shelf#:{}, mini_shelf#:{}, layer#:{}, box#:{}, row#:{}, col#:{}\".format(fridge_num,shelf_num,mini_shelf_num,layer_num,box_num,row_num,col_num)\n",
    "                                            return location\n",
    "        return \"Sample doesn't not exist in database\"\n"
   ]
  },
  {
   "cell_type": "code",
   "execution_count": 267,
   "id": "921751b9",
   "metadata": {},
   "outputs": [],
   "source": [
    "test = Database(2)"
   ]
  },
  {
   "cell_type": "code",
   "execution_count": 268,
   "id": "4fee0bca",
   "metadata": {},
   "outputs": [
    {
     "name": "stdout",
     "output_type": "stream",
     "text": [
      "successfully inserted\n"
     ]
    }
   ],
   "source": [
    "test.insert(1,3,1,3,1,0,4,\"testValue\")"
   ]
  },
  {
   "cell_type": "code",
   "execution_count": 269,
   "id": "3aa3583c",
   "metadata": {},
   "outputs": [
    {
     "data": {
      "text/plain": [
       "'Fridge#:1, shelf#:3, mini_shelf#:1, layer#:3, box#:1, row#:0, col#:4'"
      ]
     },
     "execution_count": 269,
     "metadata": {},
     "output_type": "execute_result"
    }
   ],
   "source": [
    "test.find_sample(\"testValue\")"
   ]
  },
  {
   "cell_type": "code",
   "execution_count": 270,
   "id": "ff8b862a",
   "metadata": {},
   "outputs": [
    {
     "data": {
      "text/plain": [
       "[[array([[0, 0, 0, 0, 'testValue', 0, 0, 0, 0],\n",
       "         [0, 0, 0, 0, 0, 0, 0, 0, 0],\n",
       "         [0, 0, 0, 0, 0, 0, 0, 0, 0],\n",
       "         [0, 0, 0, 0, 0, 0, 0, 0, 0],\n",
       "         [0, 0, 0, 0, 0, 0, 0, 0, 0],\n",
       "         [0, 0, 0, 0, 0, 0, 0, 0, 0],\n",
       "         [0, 0, 0, 0, 0, 0, 0, 0, 0],\n",
       "         [0, 0, 0, 0, 0, 0, 0, 0, 0],\n",
       "         [0, 0, 0, 0, 0, 0, 0, 0, 0]], dtype=object)],\n",
       " [array([[0, 0, 0, 0, 0, 0, 0, 0, 0],\n",
       "         [0, 0, 0, 0, 0, 0, 0, 0, 0],\n",
       "         [0, 0, 0, 0, 0, 0, 0, 0, 0],\n",
       "         [0, 0, 0, 0, 0, 0, 0, 0, 0],\n",
       "         [0, 0, 0, 0, 0, 0, 0, 0, 0],\n",
       "         [0, 0, 0, 0, 0, 0, 0, 0, 0],\n",
       "         [0, 0, 0, 0, 0, 0, 0, 0, 0],\n",
       "         [0, 0, 0, 0, 0, 0, 0, 0, 0],\n",
       "         [0, 0, 0, 0, 0, 0, 0, 0, 0]], dtype=object)],\n",
       " [array([[0, 0, 0, 0, 0, 0, 0, 0, 0],\n",
       "         [0, 0, 0, 0, 0, 0, 0, 0, 0],\n",
       "         [0, 0, 0, 0, 0, 0, 0, 0, 0],\n",
       "         [0, 0, 0, 0, 0, 0, 0, 0, 0],\n",
       "         [0, 0, 0, 0, 0, 0, 0, 0, 0],\n",
       "         [0, 0, 0, 0, 0, 0, 0, 0, 0],\n",
       "         [0, 0, 0, 0, 0, 0, 0, 0, 0],\n",
       "         [0, 0, 0, 0, 0, 0, 0, 0, 0],\n",
       "         [0, 0, 0, 0, 0, 0, 0, 0, 0]], dtype=object)],\n",
       " [array([[0, 0, 0, 0, 0, 0, 0, 0, 0],\n",
       "         [0, 0, 0, 0, 0, 0, 0, 0, 0],\n",
       "         [0, 0, 0, 0, 0, 0, 0, 0, 0],\n",
       "         [0, 0, 0, 0, 0, 0, 0, 0, 0],\n",
       "         [0, 0, 0, 0, 0, 0, 0, 0, 0],\n",
       "         [0, 0, 0, 0, 0, 0, 0, 0, 0],\n",
       "         [0, 0, 0, 0, 0, 0, 0, 0, 0],\n",
       "         [0, 0, 0, 0, 0, 0, 0, 0, 0],\n",
       "         [0, 0, 0, 0, 0, 0, 0, 0, 0]], dtype=object)]]"
      ]
     },
     "execution_count": 270,
     "metadata": {},
     "output_type": "execute_result"
    }
   ],
   "source": [
    "test.get_layer(1,3,1,3)"
   ]
  },
  {
   "cell_type": "code",
   "execution_count": null,
   "id": "6e1a529d",
   "metadata": {},
   "outputs": [],
   "source": []
  },
  {
   "cell_type": "code",
   "execution_count": null,
   "id": "67a27ffa",
   "metadata": {},
   "outputs": [],
   "source": []
  },
  {
   "cell_type": "code",
   "execution_count": null,
   "id": "8d26c126",
   "metadata": {},
   "outputs": [],
   "source": []
  }
 ],
 "metadata": {
  "kernelspec": {
   "display_name": "Python 3 (ipykernel)",
   "language": "python",
   "name": "python3"
  },
  "language_info": {
   "codemirror_mode": {
    "name": "ipython",
    "version": 3
   },
   "file_extension": ".py",
   "mimetype": "text/x-python",
   "name": "python",
   "nbconvert_exporter": "python",
   "pygments_lexer": "ipython3",
   "version": "3.9.7"
  }
 },
 "nbformat": 4,
 "nbformat_minor": 5
}
